{
 "cells": [
  {
   "cell_type": "code",
   "execution_count": 1,
   "source": [
    "import numpy as np"
   ],
   "outputs": [],
   "metadata": {}
  },
  {
   "cell_type": "code",
   "execution_count": null,
   "source": [
    "\r\n",
    "from utils.model import Perceptron\r\n",
    "from utils.all_utils import prepare_data, save_model, save_plot \r\n",
    "import pandas as pd\r\n",
    "\r\n",
    "def main(data, eta, epochs, filename, plotfilename):    \r\n",
    "    df = pd.DataFrame(data)\r\n",
    "    print(df )\r\n",
    "    X,y = prepare_data(df)  \r\n",
    "\r\n",
    "    model = Perceptron(eta=eta, epochs=epochs)\r\n",
    "    model.fit(X, y)\r\n",
    "\r\n",
    "    _ = model.total_loss()\r\n",
    "    save_model(model, filename=filename)\r\n",
    "\r\n",
    "    save_plot(df, plotfilename,  model)\r\n",
    "\r\n",
    "\r\n",
    "OR = {\r\n",
    "    \"x1\": [0,0,1,1],\r\n",
    "    \"x2\": [0,1,0,1],\r\n",
    "    \"y\": [0,0,0,1],\r\n",
    "}\r\n",
    "main(OR, eta=0.3, epochs=100, filename=\"or.model\", plotfilename=\"or.png\")"
   ],
   "outputs": [],
   "metadata": {}
  }
 ],
 "metadata": {
  "kernelspec": {
   "name": "python3",
   "display_name": "Python 3.7.11 64-bit ('oneNeuron': conda)"
  },
  "language_info": {
   "name": "python",
   "version": "3.7.11",
   "mimetype": "text/x-python",
   "codemirror_mode": {
    "name": "ipython",
    "version": 3
   },
   "pygments_lexer": "ipython3",
   "nbconvert_exporter": "python",
   "file_extension": ".py"
  },
  "interpreter": {
   "hash": "b045075ce600c58c4915c3e68bb347f97363dd8fe20f897cb6070e44c52404ee"
  }
 },
 "nbformat": 4,
 "nbformat_minor": 5
}